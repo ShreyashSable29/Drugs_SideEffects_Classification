{
 "cells": [
  {
   "cell_type": "markdown",
   "id": "62cd6b01",
   "metadata": {},
   "source": [
    "## INTRODUCTION\n",
    "\n",
    "- The project guidelines mention that we are expected to create a model that classifies the trial data of a drug based on age, gender, and race. We were also entrusted with creating a dataset of 4,00,000 patients containing the following details for each patient based on various attributes according to the data: By the end of the project, we should be able to generate a dataset, produce insightful visualizations, clean the dataset, sanitize it, and preprocess the data to perform data partitioning and handle missing values. Create training and testing sets. Build a classifier and fit the data to the model."
   ]
  },
  {
   "cell_type": "markdown",
   "id": "a82fd8f1",
   "metadata": {},
   "source": [
    "### Importing Main Packages"
   ]
  },
  {
   "cell_type": "code",
   "execution_count": 1,
   "id": "407252f0",
   "metadata": {},
   "outputs": [],
   "source": [
    "## Importing the Necessary Libraries\n",
    "import pandas as pd\n",
    "import numpy as np\n",
    "import matplotlib.pyplot as plt\n",
    "import seaborn as sns"
   ]
  },
  {
   "cell_type": "markdown",
   "id": "563c8fe8",
   "metadata": {},
   "source": [
    "### Loading the Dataset and Viewing it"
   ]
  },
  {
   "cell_type": "code",
   "execution_count": 2,
   "id": "a639ac12",
   "metadata": {},
   "outputs": [
    {
     "data": {
      "text/html": [
       "<div>\n",
       "<style scoped>\n",
       "    .dataframe tbody tr th:only-of-type {\n",
       "        vertical-align: middle;\n",
       "    }\n",
       "\n",
       "    .dataframe tbody tr th {\n",
       "        vertical-align: top;\n",
       "    }\n",
       "\n",
       "    .dataframe thead th {\n",
       "        text-align: right;\n",
       "    }\n",
       "</style>\n",
       "<table border=\"1\" class=\"dataframe\">\n",
       "  <thead>\n",
       "    <tr style=\"text-align: right;\">\n",
       "      <th></th>\n",
       "      <th>NAME</th>\n",
       "      <th>GENDER</th>\n",
       "      <th>DRUG NAME</th>\n",
       "      <th>AGE</th>\n",
       "      <th>RACE</th>\n",
       "      <th>SIDE EFFECTS</th>\n",
       "    </tr>\n",
       "  </thead>\n",
       "  <tbody>\n",
       "    <tr>\n",
       "      <th>0</th>\n",
       "      <td>Aaban</td>\n",
       "      <td>M</td>\n",
       "      <td>topamax</td>\n",
       "      <td>41.0</td>\n",
       "      <td>White</td>\n",
       "      <td>Mild Side Effects</td>\n",
       "    </tr>\n",
       "    <tr>\n",
       "      <th>1</th>\n",
       "      <td>Aaban</td>\n",
       "      <td>M</td>\n",
       "      <td>zocor</td>\n",
       "      <td>53.0</td>\n",
       "      <td>Hispanic, White</td>\n",
       "      <td>Extremely Severe Side Effects</td>\n",
       "    </tr>\n",
       "    <tr>\n",
       "      <th>2</th>\n",
       "      <td>Aabha</td>\n",
       "      <td>F</td>\n",
       "      <td>tazorac</td>\n",
       "      <td>31.0</td>\n",
       "      <td>White</td>\n",
       "      <td>Mild Side Effects</td>\n",
       "    </tr>\n",
       "    <tr>\n",
       "      <th>3</th>\n",
       "      <td>Aabha</td>\n",
       "      <td>F</td>\n",
       "      <td>voltaren</td>\n",
       "      <td>44.0</td>\n",
       "      <td>White</td>\n",
       "      <td>Severe Side Effects</td>\n",
       "    </tr>\n",
       "    <tr>\n",
       "      <th>4</th>\n",
       "      <td>Aabid</td>\n",
       "      <td>M</td>\n",
       "      <td>tramadol</td>\n",
       "      <td>24.0</td>\n",
       "      <td>White</td>\n",
       "      <td>No Side Effects</td>\n",
       "    </tr>\n",
       "  </tbody>\n",
       "</table>\n",
       "</div>"
      ],
      "text/plain": [
       "    NAME GENDER DRUG NAME   AGE             RACE  \\\n",
       "0  Aaban      M   topamax  41.0            White   \n",
       "1  Aaban      M     zocor  53.0  Hispanic, White   \n",
       "2  Aabha      F   tazorac  31.0            White   \n",
       "3  Aabha      F  voltaren  44.0            White   \n",
       "4  Aabid      M  tramadol  24.0            White   \n",
       "\n",
       "                    SIDE EFFECTS  \n",
       "0              Mild Side Effects  \n",
       "1  Extremely Severe Side Effects  \n",
       "2              Mild Side Effects  \n",
       "3            Severe Side Effects  \n",
       "4                No Side Effects  "
      ]
     },
     "execution_count": 2,
     "metadata": {},
     "output_type": "execute_result"
    }
   ],
   "source": [
    "## Lets Import the DataSet and Check It\n",
    "data=pd.read_csv(r\"C:\\Users\\lenovo\\Desktop\\DRUG SIDE EFFECTS.csv\")\n",
    "data.head()"
   ]
  },
  {
   "cell_type": "markdown",
   "id": "b9ff7128",
   "metadata": {},
   "source": [
    "### Checking the Additional Information about the DataSet"
   ]
  },
  {
   "cell_type": "code",
   "execution_count": 3,
   "id": "1b59343a",
   "metadata": {},
   "outputs": [
    {
     "data": {
      "text/plain": [
       "(400000, 6)"
      ]
     },
     "execution_count": 3,
     "metadata": {},
     "output_type": "execute_result"
    }
   ],
   "source": [
    "## Basic information about the dataset\n",
    "data.shape"
   ]
  },
  {
   "cell_type": "code",
   "execution_count": 4,
   "id": "6379a9dc",
   "metadata": {},
   "outputs": [
    {
     "name": "stdout",
     "output_type": "stream",
     "text": [
      "<class 'pandas.core.frame.DataFrame'>\n",
      "RangeIndex: 400000 entries, 0 to 399999\n",
      "Data columns (total 6 columns):\n",
      " #   Column        Non-Null Count   Dtype  \n",
      "---  ------        --------------   -----  \n",
      " 0   NAME          400000 non-null  object \n",
      " 1   GENDER        400000 non-null  object \n",
      " 2   DRUG NAME     400000 non-null  object \n",
      " 3   AGE           399980 non-null  float64\n",
      " 4   RACE          400000 non-null  object \n",
      " 5   SIDE EFFECTS  400000 non-null  object \n",
      "dtypes: float64(1), object(5)\n",
      "memory usage: 18.3+ MB\n"
     ]
    }
   ],
   "source": [
    "data.info()"
   ]
  },
  {
   "cell_type": "code",
   "execution_count": 5,
   "id": "268e6cbf",
   "metadata": {},
   "outputs": [
    {
     "data": {
      "text/html": [
       "<div>\n",
       "<style scoped>\n",
       "    .dataframe tbody tr th:only-of-type {\n",
       "        vertical-align: middle;\n",
       "    }\n",
       "\n",
       "    .dataframe tbody tr th {\n",
       "        vertical-align: top;\n",
       "    }\n",
       "\n",
       "    .dataframe thead th {\n",
       "        text-align: right;\n",
       "    }\n",
       "</style>\n",
       "<table border=\"1\" class=\"dataframe\">\n",
       "  <thead>\n",
       "    <tr style=\"text-align: right;\">\n",
       "      <th></th>\n",
       "      <th>AGE</th>\n",
       "    </tr>\n",
       "  </thead>\n",
       "  <tbody>\n",
       "    <tr>\n",
       "      <th>count</th>\n",
       "      <td>399980.000000</td>\n",
       "    </tr>\n",
       "    <tr>\n",
       "      <th>mean</th>\n",
       "      <td>41.466513</td>\n",
       "    </tr>\n",
       "    <tr>\n",
       "      <th>std</th>\n",
       "      <td>12.550773</td>\n",
       "    </tr>\n",
       "    <tr>\n",
       "      <th>min</th>\n",
       "      <td>14.000000</td>\n",
       "    </tr>\n",
       "    <tr>\n",
       "      <th>25%</th>\n",
       "      <td>31.000000</td>\n",
       "    </tr>\n",
       "    <tr>\n",
       "      <th>50%</th>\n",
       "      <td>41.000000</td>\n",
       "    </tr>\n",
       "    <tr>\n",
       "      <th>75%</th>\n",
       "      <td>51.000000</td>\n",
       "    </tr>\n",
       "    <tr>\n",
       "      <th>max</th>\n",
       "      <td>600.000000</td>\n",
       "    </tr>\n",
       "  </tbody>\n",
       "</table>\n",
       "</div>"
      ],
      "text/plain": [
       "                 AGE\n",
       "count  399980.000000\n",
       "mean       41.466513\n",
       "std        12.550773\n",
       "min        14.000000\n",
       "25%        31.000000\n",
       "50%        41.000000\n",
       "75%        51.000000\n",
       "max       600.000000"
      ]
     },
     "execution_count": 5,
     "metadata": {},
     "output_type": "execute_result"
    }
   ],
   "source": [
    "##Checking the Description of the Data\n",
    "data.describe()"
   ]
  },
  {
   "cell_type": "markdown",
   "id": "e3541ddc",
   "metadata": {},
   "source": [
    "### Checking & Handling Null Values"
   ]
  },
  {
   "cell_type": "code",
   "execution_count": 6,
   "id": "6a519d45",
   "metadata": {},
   "outputs": [
    {
     "data": {
      "text/plain": [
       "NAME             0\n",
       "GENDER           0\n",
       "DRUG NAME        0\n",
       "AGE             20\n",
       "RACE             0\n",
       "SIDE EFFECTS     0\n",
       "dtype: int64"
      ]
     },
     "execution_count": 6,
     "metadata": {},
     "output_type": "execute_result"
    }
   ],
   "source": [
    "## Checking null values\n",
    "data.isna().sum()"
   ]
  },
  {
   "cell_type": "code",
   "execution_count": 7,
   "id": "25301bbe",
   "metadata": {},
   "outputs": [
    {
     "data": {
      "image/png": "[encoded data removed]",
      "text/plain": [
       "<Figure size 360x360 with 1 Axes>"
      ]
     },
     "metadata": {
      "needs_background": "light"
     },
     "output_type": "display_data"
    }
   ],
   "source": [
    "## Checking the skewness\n",
    "freqgraph = data.select_dtypes(include=['float64'])     \n",
    "freqgraph.hist(figsize=(5,5))\n",
    "plt.show()"
   ]
  },
  {
   "cell_type": "code",
   "execution_count": 8,
   "id": "f93dd12a",
   "metadata": {},
   "outputs": [],
   "source": [
    "## Filling the null values with mean \n",
    "data['AGE']=data.AGE.fillna(data.AGE.mean())"
   ]
  },
  {
   "cell_type": "code",
   "execution_count": 9,
   "id": "945ee335",
   "metadata": {},
   "outputs": [
    {
     "data": {
      "text/plain": [
       "NAME            0\n",
       "GENDER          0\n",
       "DRUG NAME       0\n",
       "AGE             0\n",
       "RACE            0\n",
       "SIDE EFFECTS    0\n",
       "dtype: int64"
      ]
     },
     "execution_count": 9,
     "metadata": {},
     "output_type": "execute_result"
    }
   ],
   "source": [
    "## Again checking the null values after filling it\n",
    "data.isna().sum()"
   ]
  },
  {
   "cell_type": "markdown",
   "id": "35bcf2af",
   "metadata": {},
   "source": [
    "### Outlier Detection & Handling"
   ]
  },
  {
   "cell_type": "code",
   "execution_count": 10,
   "id": "a063c61c",
   "metadata": {
    "scrolled": true
   },
   "outputs": [
    {
     "data": {
      "image/png": "[encoded data removed]",
      "text/plain": [
       "<Figure size 720x360 with 1 Axes>"
      ]
     },
     "metadata": {
      "needs_background": "light"
     },
     "output_type": "display_data"
    }
   ],
   "source": [
    "## Finding outliers\n",
    "graph=data.select_dtypes(include=['float64'])\n",
    "graph.boxplot(figsize=(10,5))\n",
    "plt.show()"
   ]
  },
  {
   "cell_type": "code",
   "execution_count": 11,
   "id": "22d7a83e",
   "metadata": {},
   "outputs": [],
   "source": [
    "Q1 = np.percentile(data['AGE'], 25, interpolation = 'midpoint')  \n",
    "Q2 = np.percentile(data['AGE'], 50, interpolation = 'midpoint')  \n",
    "Q3 = np.percentile(data['AGE'], 75, interpolation = 'midpoint') \n",
    "IQR = Q3 - Q1 \n",
    "low_lim = Q1 - 1.5 * IQR \n",
    "up_lim = Q3 + 1.5 * IQR "
   ]
  },
  {
   "cell_type": "code",
   "execution_count": 12,
   "id": "74a91865",
   "metadata": {},
   "outputs": [
    {
     "name": "stdout",
     "output_type": "stream",
     "text": [
      "1.0\n",
      "81.0\n"
     ]
    }
   ],
   "source": [
    "print(low_lim)\n",
    "print(up_lim)"
   ]
  },
  {
   "cell_type": "code",
   "execution_count": 13,
   "id": "bd92bce9",
   "metadata": {},
   "outputs": [
    {
     "name": "stdout",
     "output_type": "stream",
     "text": [
      "[300.0, 302.0, 87.0, 90.0, 84.0, 500.0, 400.0, 87.0, 203.0, 160.0, 400.0, 87.0, 87.0, 191.0, 450.0, 390.0, 84.0, 87.0, 84.0, 155.0, 300.0, 87.0, 87.0, 84.0, 390.0, 87.0, 84.0, 600.0, 84.0, 84.0, 87.0, 84.0, 211.0, 600.0, 401.0, 89.0, 300.0, 390.0]\n"
     ]
    }
   ],
   "source": [
    "outlier =[] \n",
    "for x in data['AGE']: \n",
    "    if ((x> up_lim) or (x<low_lim)): \n",
    "         outlier.append(x)\n",
    "print(outlier)"
   ]
  },
  {
   "cell_type": "code",
   "execution_count": 14,
   "id": "772aea09",
   "metadata": {},
   "outputs": [
    {
     "data": {
      "text/plain": [
       "Int64Index([], dtype='int64')"
      ]
     },
     "execution_count": 14,
     "metadata": {},
     "output_type": "execute_result"
    }
   ],
   "source": [
    "ind1 = data['AGE']<low_lim\n",
    "data.loc[ind1].index"
   ]
  },
  {
   "cell_type": "code",
   "execution_count": 15,
   "id": "0291671e",
   "metadata": {},
   "outputs": [
    {
     "data": {
      "text/plain": [
       "Int64Index([  3008,  41048,  43016,  52650,  60136,  66169,  85047,  93226,\n",
       "            111850, 119574, 127240, 145846, 168426, 171643, 174039, 174487,\n",
       "            186893, 209780, 218988, 224733, 232518, 242302, 245321, 259034,\n",
       "            264849, 266215, 275520, 290165, 295943, 300452, 315506, 325628,\n",
       "            325631, 333669, 337790, 363934, 384352, 393820],\n",
       "           dtype='int64')"
      ]
     },
     "execution_count": 15,
     "metadata": {},
     "output_type": "execute_result"
    }
   ],
   "source": [
    "ind2 = data['AGE']>up_lim\n",
    "data.loc[ind2].index"
   ]
  },
  {
   "cell_type": "code",
   "execution_count": 16,
   "id": "85377740",
   "metadata": {},
   "outputs": [],
   "source": [
    "## Dropping the outliers\n",
    "data.drop([3008,  41048,  43016,  52650,  60136,  66169,  85047,  93226,\n",
    "            111850, 119574, 127240, 145846, 168426, 171643, 174039, 174487,\n",
    "            186893, 209780, 218988, 224733, 232518, 242302, 245321, 259034,\n",
    "            264849, 266215, 275520, 290165, 295943, 300452, 315506, 325628,\n",
    "            325631, 333669, 337790, 363934, 384352, 393820 ], inplace=True)"
   ]
  },
  {
   "cell_type": "code",
   "execution_count": 17,
   "id": "4896a186",
   "metadata": {},
   "outputs": [
    {
     "data": {
      "image/png": "[encoded data removed]",
      "text/plain": [
       "<Figure size 720x360 with 1 Axes>"
      ]
     },
     "metadata": {
      "needs_background": "light"
     },
     "output_type": "display_data"
    }
   ],
   "source": [
    "graph=data.select_dtypes(include=['float64'])\n",
    "graph.boxplot(figsize=(10,5))\n",
    "plt.show()"
   ]
  },
  {
   "cell_type": "code",
   "execution_count": 18,
   "id": "8b2212f5",
   "metadata": {},
   "outputs": [
    {
     "data": {
      "text/plain": [
       "count    399962.000000\n",
       "mean         41.449759\n",
       "std          12.333809\n",
       "min          14.000000\n",
       "25%          31.000000\n",
       "50%          41.000000\n",
       "75%          51.000000\n",
       "max          80.000000\n",
       "Name: AGE, dtype: float64"
      ]
     },
     "execution_count": 18,
     "metadata": {},
     "output_type": "execute_result"
    }
   ],
   "source": [
    "data[\"AGE\"].describe()"
   ]
  },
  {
   "cell_type": "markdown",
   "id": "764f278d",
   "metadata": {},
   "source": [
    "## Exploratory Data Analysis"
   ]
  },
  {
   "cell_type": "code",
   "execution_count": 19,
   "id": "34d43c95",
   "metadata": {},
   "outputs": [
    {
     "data": {
      "text/plain": [
       "paxil         6268\n",
       "lamictal      6045\n",
       "nexium        6029\n",
       "levoxyl       5958\n",
       "lexapro       5691\n",
       "              ... \n",
       "lantus           8\n",
       "periostat        8\n",
       "proair-hfa       8\n",
       "bactrim-ds       8\n",
       "arimidex         8\n",
       "Name: DRUG NAME, Length: 502, dtype: int64"
      ]
     },
     "execution_count": 19,
     "metadata": {},
     "output_type": "execute_result"
    }
   ],
   "source": [
    "data['DRUG NAME'].value_counts()"
   ]
  },
  {
   "cell_type": "code",
   "execution_count": 20,
   "id": "6ef56dc2",
   "metadata": {},
   "outputs": [
    {
     "data": {
      "text/plain": [
       "F    237730\n",
       "M    162232\n",
       "Name: GENDER, dtype: int64"
      ]
     },
     "execution_count": 20,
     "metadata": {},
     "output_type": "execute_result"
    }
   ],
   "source": [
    "data['GENDER'].value_counts()"
   ]
  },
  {
   "cell_type": "code",
   "execution_count": 21,
   "id": "44c703c6",
   "metadata": {},
   "outputs": [
    {
     "data": {
      "text/plain": [
       "(array([0, 1]), [Text(0, 0, 'M'), Text(1, 0, 'F')])"
      ]
     },
     "execution_count": 21,
     "metadata": {},
     "output_type": "execute_result"
    },
    {
     "data": {
      "image/png": "[encoded data removed]",
      "text/plain": [
       "<Figure size 360x360 with 1 Axes>"
      ]
     },
     "metadata": {
      "needs_background": "light"
     },
     "output_type": "display_data"
    }
   ],
   "source": [
    "## Plotting a count plot on 'GENDER'\n",
    "data['GENDER'].value_counts()\n",
    "plt.figure(figsize=(5,5))\n",
    "sns.countplot(x='GENDER',data=data,palette=\"icefire\",hue='GENDER')\n",
    "plt.title(\"GENDER COUNT\",fontsize=18)\n",
    "plt.xticks(rotation=0)"
   ]
  },
  {
   "cell_type": "markdown",
   "id": "74044ce3",
   "metadata": {},
   "source": [
    "- The females have the greatest counts in the dataset, which are significantly higher than those of males"
   ]
  },
  {
   "cell_type": "code",
   "execution_count": 22,
   "id": "cf32770b",
   "metadata": {},
   "outputs": [
    {
     "data": {
      "text/plain": [
       "White              314059\n",
       "Hispanic, White     44053\n",
       "Black               35842\n",
       "Unknown              3046\n",
       "Hispanic, Black      1673\n",
       "Other                1009\n",
       "Asian, Other          168\n",
       "Asian Indian          104\n",
       "Chinese                 8\n",
       "Name: RACE, dtype: int64"
      ]
     },
     "execution_count": 22,
     "metadata": {},
     "output_type": "execute_result"
    }
   ],
   "source": [
    "## Plotting a count plot on 'RACE'.\n",
    "data['RACE'].value_counts()"
   ]
  },
  {
   "cell_type": "code",
   "execution_count": 23,
   "id": "cbaf5dcf",
   "metadata": {},
   "outputs": [
    {
     "data": {
      "text/plain": [
       "(array([0, 1, 2, 3, 4, 5, 6, 7, 8]),\n",
       " [Text(0, 0, 'White'),\n",
       "  Text(1, 0, 'Hispanic, White'),\n",
       "  Text(2, 0, 'Unknown'),\n",
       "  Text(3, 0, 'Black'),\n",
       "  Text(4, 0, 'Other'),\n",
       "  Text(5, 0, 'Hispanic, Black'),\n",
       "  Text(6, 0, 'Asian, Other'),\n",
       "  Text(7, 0, 'Asian Indian'),\n",
       "  Text(8, 0, 'Chinese')])"
      ]
     },
     "execution_count": 23,
     "metadata": {},
     "output_type": "execute_result"
    },
    {
     "data": {
      "image/png": "[encoded data removed]",
      "text/plain": [
       "<Figure size 432x432 with 1 Axes>"
      ]
     },
     "metadata": {
      "needs_background": "light"
     },
     "output_type": "display_data"
    }
   ],
   "source": [
    "data[\"RACE\"].value_counts()\n",
    "plt.figure(figsize=(6,6))\n",
    "sns.countplot(x='RACE',data=data)\n",
    "plt.title(\"RACE COUNT\",fontsize=18 )\n",
    "plt.xticks(rotation=45)"
   ]
  },
  {
   "cell_type": "markdown",
   "id": "9e44472d",
   "metadata": {},
   "source": [
    "- Chinese people, use the least amount of medications for treatment, whereas white people use the most."
   ]
  },
  {
   "cell_type": "code",
   "execution_count": 24,
   "id": "6e6595b0",
   "metadata": {},
   "outputs": [
    {
     "data": {
      "text/plain": [
       "array(['topamax', 'zocor', 'tazorac', 'voltaren', 'tramadol', 'valtrex',\n",
       "       'levoxyl', 'imitrex', 'seroquel', 'minocycline', 'proscar',\n",
       "       'keflex', 'cataflam', 'zyrtec', 'lexapro', 'spironolactone',\n",
       "       'claripel-cream', 'wellbutrin-sr', 'prozac', 'wellbutrin-xl',\n",
       "       'citalopram', 'baclofen', 'concerta', 'singulair', 'angeliq',\n",
       "       'yasmin', 'cialis', 'lunesta', 'cymbalta', 'methotrexate',\n",
       "       'lamictal', 'evoclin', 'actonel', 'protonix', 'premarin',\n",
       "       'provigil', 'protopic', 'prednisone', 'diazepam', 'ultram',\n",
       "       'albuterol', 'zovirax', 'asacol', 'zegerid', 'halcion', 'differin',\n",
       "       'nexium', 'phenergan', 'propecia', 'enalapril', 'chantix', 'avita',\n",
       "       'synthroid', 'renova', 'buspar', 'retin-a-micro', 'climara',\n",
       "       'estrace', 'klonopin', 'ambien', 'prevacid', 'lipitor',\n",
       "       'wellbutrin', 'seasonique', 'paxil', 'nortriptyline', 'amoxil',\n",
       "       'nitrofurantoin', 'tamiflu', 'noroxin', 'acyclovir', 'aromasin',\n",
       "       'celebrex', 'claritin', 'ortho-tri-cyclen', 'metrogel', 'xanax',\n",
       "       'restoril', 'frova', 'tri-luma', 'zmax', 'qvar', 'elavil',\n",
       "       'atarax', 'adderall', 'aricept', 'lorazepam', 'vyvanse', 'flonase',\n",
       "       'mevacor', 'accutane', 'panixine-disperdose', 'tenormin',\n",
       "       'augmentin', 'abilify', 'trazodone', 'seasonale', 'neurontin',\n",
       "       'nuvaring', 'nasacort', 'minoxidil', 'oxycodone', 'aldactone',\n",
       "       'diclofenac', 'armour-thyroid', 'avage', 'avelox', 'ditropan',\n",
       "       'miralax', 'fexofenadine', 'clarinex', 'fosamax', 'lortab',\n",
       "       'effexor-xr', 'metformin', 'prometrium', 'erythromycin',\n",
       "       'xanax-xr', 'remicade', 'prempro', 'darvocet-n', 'ativan',\n",
       "       'lumigan', 'norvasc', 'lamisil', 'clonazepam', 'symbyax', 'vaniqa',\n",
       "       'ultracet', 'sotret', 'retin-a', 'effexor', 'zyrtec-d', 'celexa',\n",
       "       'sulfasalazine', 'zyprexa', 'sonata', 'isoniazid', 'lyrica',\n",
       "       'prilosec', 'byetta', 'crestor', 'maxalt', 'enbrel', 'femring',\n",
       "       'nolvadex', 'cleocin', 'copaxone', 'zithromax', 'estratest',\n",
       "       'naltrexone', 'ampicillin', 'omnitrope', 'oracea', 'prinivil',\n",
       "       'adipex-p', 'mirena', 'strattera', 'proquin-xr', 'vytorin',\n",
       "       'percocet', 'depo-provera', 'humira', 'tetracycline', 'zoloft',\n",
       "       'ambien-cr', 'actos', 'niaspan', 'xyrem', 'valium', 'duac',\n",
       "       'doxycycline', 'pristiq', 'pravachol', 'trimethoprim', 'estrasorb',\n",
       "       'coumadin', 'zyban', 'risperdal', 'levora', 'pentasa', 'nasonex',\n",
       "       'zomig', 'flexeril', 'klaron', 'tussionex', 'metronidazole',\n",
       "       'naproxen', 'cipro', 'allegra-d', 'botox', 'advair-hfa',\n",
       "       'symbicort', 'triaz', 'arava', 'vicodin', 'sarafem', 'meridia',\n",
       "       'aygestin', 'selegiline', 'xenical', 'atenolol', 'tirosint',\n",
       "       'keppra', 'diovan', 'macrobid', 'cosopt', 'efudex', 'ritalin',\n",
       "       'ranitidine', 'toradol', 'nuvigil', 'sular', 'remeron',\n",
       "       'hydrochlorothiazide', 'dextrostat', 'doryx', 'desyrel', 'plendil',\n",
       "       'naprosyn', 'allegra', 'sumatriptan', 'vivelle-dot', 'mirtazapine',\n",
       "       'delestrogen', 'mobic', 'vagifem', 'parlodel', 'advair-diskus',\n",
       "       'glucophage', 'requip', 'oxycontin', 'trilipix', 'micardis',\n",
       "       'ketoconazole', 'clindamycin', 'norpramin', 'hytrin', 'flagyl',\n",
       "       'plavix', 'motrin', 'latisse', 'betamethasone', 'clobex',\n",
       "       'alprazolam', 'soma', 'biaxin', 'malarone', 'imodium', 'penlac',\n",
       "       'aczone', 'omacor', 'nizoral-shampoo', 'oxazepam', 'polymyxin-b',\n",
       "       'alendronate', 'meperidine', 'elidel', 'vioxx', 'innofem',\n",
       "       'grifulvin-v', 'omnicef', 'eulexin', 'ortho-tri-cyclen-lo',\n",
       "       'seroquel-xr', 'restasis', 'enablex', 'fluvoxamine', 'suboxone',\n",
       "       'metoprolol', 'lidex', 'tofranil-pm', 'betaseron', 'buprenorphine',\n",
       "       'zantac', 'geodon', 'dexedrine', 'clomid', 'ketorolac', 'zofran',\n",
       "       'sulindac', 'fiorinal', 'finacea', 'fluconazole', 'topicort',\n",
       "       'tylenol', 'baraclude', 'prochlorperazine', 'ventolin-hfa',\n",
       "       'avodart', 'axert', 'evista', 'penicillin-v', 'relpax', 'atripla',\n",
       "       'amitiza', 'fortaz', 'permapen', 'hydrocodone-and-acetaminophen',\n",
       "       'vasotec', 'temovate', 'lopressor', 'lamotrigine',\n",
       "       'premarin-vaginal', 'coreg', 'elocon', 'climara-pro', 'follistim',\n",
       "       'locoid-lipocream', 'accupril', 'niacor', 'catapres', 'azasan',\n",
       "       'imuran', 'viagra', 'ortho-novum', 'benicar-hct', 'tobramycin',\n",
       "       'fentanyl', 'triphasil', 'diflucan', 'ortho-evra', 'levaquin',\n",
       "       'benzaclin', 'aldara', 'compazine', 'ponstel', 'trimethobenzamide',\n",
       "       'inderal', 'galzin', 'carac', 'cardura-xl', 'lac-hydrin', 'ceclor',\n",
       "       'methadone', 'dispermox', 'xalatan', 'dovonex', 'corgard',\n",
       "       'solodyn', 'diltiazem', 'clobetasol', 'levitra', 'ecotrin',\n",
       "       'morphine', 'boniva', 'danazol', 'hyzaar', 'atacand', 'relafen',\n",
       "       'dysport', 'nizoral', 'ritalin-la', 'ziac', 'prednisolone',\n",
       "       'triamcinolone', 'estrostep-fe', 'cytomel', 'lodine',\n",
       "       'fosamax-plus-d', 'lidocaine', 'fioricet', 'dicyclomine',\n",
       "       'phendimetrazine', 'quibron-t', 'rhinocort', 'spiriva',\n",
       "       'oxybutynin', 'dilantin', 'desonide', 'lithium-carbonate',\n",
       "       'clarithromycin', 'detrol-la', 'dextroamphetamine', 'avapro',\n",
       "       'deltasone', 'femhrt', 'adderall-xr', 'dilaudid', 'bactrim-ds',\n",
       "       'nystatin', 'proair-hfa', 'mirapex', 'periostat', 'soltamox',\n",
       "       'pilocarpine', 'periogard', 'lantus', 'reglan', 'androgel',\n",
       "       'oxycodone-and-acetaminophen', 'depakene', 'cozaar', 'antivert',\n",
       "       'haldol', 'ribavirin', 'doxepin', 'lotrel', 'medroxyprogesterone',\n",
       "       'caduet', 'amphetamine', 'prograf', 'divigel', 'hydrocortisone',\n",
       "       'ziana', 'alesse', 'azopt', 'methimazole', 'fosinopril', 'rebif',\n",
       "       'paxil-cr', 'septra', 'ultram-er', 'provera', 'tambocor',\n",
       "       'hyoscyamine', 'levothroid', 'metrolotion', 'emsam',\n",
       "       'metoclopramide', 'aralen', 'azelex', 'flovent', 'tarka',\n",
       "       'vivelle', 'lo-ovral', 'anafranil', 'mercaptopurine', 'aloprim',\n",
       "       'nasarel', 'gonal-f-rff', 'trileptal', 'trental', 'elmiron',\n",
       "       'lasix', 'exelon', 'adcirca', 'duragesic', 'proloprim',\n",
       "       'dexamethasone', 'progesterone', 'skelaxin', 'vigamox',\n",
       "       'metformin-extended-release', 'neoprofen', 'inspra', 'zestoretic',\n",
       "       'vesicare', 'depakote', 'tekturna', 'serzone', 'benicar', 'zyvox',\n",
       "       'saizen', 'tegretol', 'propranolol', 'bystolic', 'nasacort-aq',\n",
       "       'pepcid', 'nardil', 'aciphex', 'sanctura-xr', 'vicoprofen',\n",
       "       'minocin', 'clindamycin-topical', 'lupron', 'accolate', 'flomax',\n",
       "       'asmanex', 'baciim', 'cardura', 'arthrotec', 'dostinex',\n",
       "       'tapazole', 'actiq', 'xyzal', 'bactroban', 'amerge', 'femara',\n",
       "       'toprol-xl', 'detrol', 'warfarin', 'glucophage-xr', 'kenalog',\n",
       "       'cyproheptadine', 'lotronex', 'levetiracetam', 'cefzil', 'azor',\n",
       "       'estring', 'erythra-derm', 'rifadin', 'bisoprolol',\n",
       "       'zovirax-topical', 'dapsone', 'lybrel', 'tequin',\n",
       "       'risperdal-consta', 'pamelor', 'benadryl', 'vistaril', 'arimidex'],\n",
       "      dtype=object)"
      ]
     },
     "execution_count": 24,
     "metadata": {},
     "output_type": "execute_result"
    }
   ],
   "source": [
    "data['DRUG NAME'].unique()"
   ]
  },
  {
   "cell_type": "code",
   "execution_count": 25,
   "id": "09574b89",
   "metadata": {},
   "outputs": [
    {
     "data": {
      "text/plain": [
       "array(['Mild Side Effects', 'Extremely Severe Side Effects',\n",
       "       'Severe Side Effects', 'No Side Effects', 'Moderate Side Effects'],\n",
       "      dtype=object)"
      ]
     },
     "execution_count": 25,
     "metadata": {},
     "output_type": "execute_result"
    }
   ],
   "source": [
    "data['SIDE EFFECTS'].unique()"
   ]
  },
  {
   "cell_type": "code",
   "execution_count": 26,
   "id": "b8f7e26f",
   "metadata": {},
   "outputs": [
    {
     "data": {
      "text/plain": [
       "(array([0, 1, 2, 3, 4]),\n",
       " [Text(0, 0, 'Mild Side Effects'),\n",
       "  Text(1, 0, 'Extremely Severe Side Effects'),\n",
       "  Text(2, 0, 'Severe Side Effects'),\n",
       "  Text(3, 0, 'No Side Effects'),\n",
       "  Text(4, 0, 'Moderate Side Effects')])"
      ]
     },
     "execution_count": 26,
     "metadata": {},
     "output_type": "execute_result"
    },
    {
     "data": {
      "image/png": "[encoded data removed]",
      "text/plain": [
       "<Figure size 576x432 with 1 Axes>"
      ]
     },
     "metadata": {
      "needs_background": "light"
     },
     "output_type": "display_data"
    }
   ],
   "source": [
    "## Plotting a count plot on the 'SIDE EFFECTS'\n",
    "data['SIDE EFFECTS'].value_counts()\n",
    "plt.figure(figsize=(8,6))\n",
    "sns.countplot(data=data,x='SIDE EFFECTS')\n",
    "plt.title('SIDE EFFECTS COUNT',fontsize=18)\n",
    "plt.xticks(rotation=45)"
   ]
  },
  {
   "cell_type": "markdown",
   "id": "640231c0",
   "metadata": {},
   "source": [
    "- The majority of the medications have Mild Side Effects."
   ]
  },
  {
   "cell_type": "code",
   "execution_count": 27,
   "id": "3314222a",
   "metadata": {},
   "outputs": [
    {
     "data": {
      "text/html": [
       "<div>\n",
       "<style scoped>\n",
       "    .dataframe tbody tr th:only-of-type {\n",
       "        vertical-align: middle;\n",
       "    }\n",
       "\n",
       "    .dataframe tbody tr th {\n",
       "        vertical-align: top;\n",
       "    }\n",
       "\n",
       "    .dataframe thead th {\n",
       "        text-align: right;\n",
       "    }\n",
       "</style>\n",
       "<table border=\"1\" class=\"dataframe\">\n",
       "  <thead>\n",
       "    <tr style=\"text-align: right;\">\n",
       "      <th></th>\n",
       "      <th>GENDER</th>\n",
       "      <th>DRUG NAME</th>\n",
       "      <th>AGE</th>\n",
       "      <th>RACE</th>\n",
       "      <th>SIDE EFFECTS</th>\n",
       "    </tr>\n",
       "  </thead>\n",
       "  <tbody>\n",
       "    <tr>\n",
       "      <th>0</th>\n",
       "      <td>M</td>\n",
       "      <td>topamax</td>\n",
       "      <td>41.0</td>\n",
       "      <td>White</td>\n",
       "      <td>Mild Side Effects</td>\n",
       "    </tr>\n",
       "    <tr>\n",
       "      <th>1</th>\n",
       "      <td>M</td>\n",
       "      <td>zocor</td>\n",
       "      <td>53.0</td>\n",
       "      <td>Hispanic, White</td>\n",
       "      <td>Extremely Severe Side Effects</td>\n",
       "    </tr>\n",
       "    <tr>\n",
       "      <th>2</th>\n",
       "      <td>F</td>\n",
       "      <td>tazorac</td>\n",
       "      <td>31.0</td>\n",
       "      <td>White</td>\n",
       "      <td>Mild Side Effects</td>\n",
       "    </tr>\n",
       "    <tr>\n",
       "      <th>3</th>\n",
       "      <td>F</td>\n",
       "      <td>voltaren</td>\n",
       "      <td>44.0</td>\n",
       "      <td>White</td>\n",
       "      <td>Severe Side Effects</td>\n",
       "    </tr>\n",
       "    <tr>\n",
       "      <th>4</th>\n",
       "      <td>M</td>\n",
       "      <td>tramadol</td>\n",
       "      <td>24.0</td>\n",
       "      <td>White</td>\n",
       "      <td>No Side Effects</td>\n",
       "    </tr>\n",
       "  </tbody>\n",
       "</table>\n",
       "</div>"
      ],
      "text/plain": [
       "  GENDER DRUG NAME   AGE             RACE                   SIDE EFFECTS\n",
       "0      M   topamax  41.0            White              Mild Side Effects\n",
       "1      M     zocor  53.0  Hispanic, White  Extremely Severe Side Effects\n",
       "2      F   tazorac  31.0            White              Mild Side Effects\n",
       "3      F  voltaren  44.0            White            Severe Side Effects\n",
       "4      M  tramadol  24.0            White                No Side Effects"
      ]
     },
     "execution_count": 27,
     "metadata": {},
     "output_type": "execute_result"
    }
   ],
   "source": [
    "## Dropping the  attribute ‘NAME’ as it doesn't give any contribution to the modeling.\n",
    "data=data.drop(['NAME'],axis=1)\n",
    "data.head()"
   ]
  },
  {
   "cell_type": "markdown",
   "id": "5569d5be",
   "metadata": {},
   "source": [
    "### Encoding"
   ]
  },
  {
   "cell_type": "code",
   "execution_count": 28,
   "id": "f649e5e0",
   "metadata": {},
   "outputs": [],
   "source": [
    "## Label Encoding\n",
    "df=data.copy()"
   ]
  },
  {
   "cell_type": "code",
   "execution_count": 29,
   "id": "e2a44c6d",
   "metadata": {},
   "outputs": [],
   "source": [
    "## Importing the Library for Label Encoder\n",
    "from sklearn.preprocessing import LabelEncoder"
   ]
  },
  {
   "cell_type": "raw",
   "id": "f8023eb0",
   "metadata": {},
   "source": [
    "from sklearn.preprocessing import LabelEncoder\n",
    "label=LabelEncoder()\n",
    "for col in [\"GENDER\",\"DRUG NAME\",\"RACE\",\"SIDE EFFECTS\"]:\n",
    "    df[col]=label.fit_transform(data[col])\n",
    "datastand=df\n",
    "print(f\"{mapping}\")"
   ]
  },
  {
   "cell_type": "code",
   "execution_count": 30,
   "id": "80466f17",
   "metadata": {},
   "outputs": [
    {
     "data": {
      "text/html": [
       "<div>\n",
       "<style scoped>\n",
       "    .dataframe tbody tr th:only-of-type {\n",
       "        vertical-align: middle;\n",
       "    }\n",
       "\n",
       "    .dataframe tbody tr th {\n",
       "        vertical-align: top;\n",
       "    }\n",
       "\n",
       "    .dataframe thead th {\n",
       "        text-align: right;\n",
       "    }\n",
       "</style>\n",
       "<table border=\"1\" class=\"dataframe\">\n",
       "  <thead>\n",
       "    <tr style=\"text-align: right;\">\n",
       "      <th></th>\n",
       "      <th>GENDER</th>\n",
       "      <th>DRUG NAME</th>\n",
       "      <th>AGE</th>\n",
       "      <th>RACE</th>\n",
       "      <th>SIDE EFFECTS</th>\n",
       "    </tr>\n",
       "  </thead>\n",
       "  <tbody>\n",
       "    <tr>\n",
       "      <th>0</th>\n",
       "      <td>M</td>\n",
       "      <td>topamax</td>\n",
       "      <td>41.0</td>\n",
       "      <td>White</td>\n",
       "      <td>Mild Side Effects</td>\n",
       "    </tr>\n",
       "    <tr>\n",
       "      <th>1</th>\n",
       "      <td>M</td>\n",
       "      <td>zocor</td>\n",
       "      <td>53.0</td>\n",
       "      <td>Hispanic, White</td>\n",
       "      <td>Extremely Severe Side Effects</td>\n",
       "    </tr>\n",
       "    <tr>\n",
       "      <th>2</th>\n",
       "      <td>F</td>\n",
       "      <td>tazorac</td>\n",
       "      <td>31.0</td>\n",
       "      <td>White</td>\n",
       "      <td>Mild Side Effects</td>\n",
       "    </tr>\n",
       "    <tr>\n",
       "      <th>3</th>\n",
       "      <td>F</td>\n",
       "      <td>voltaren</td>\n",
       "      <td>44.0</td>\n",
       "      <td>White</td>\n",
       "      <td>Severe Side Effects</td>\n",
       "    </tr>\n",
       "    <tr>\n",
       "      <th>4</th>\n",
       "      <td>M</td>\n",
       "      <td>tramadol</td>\n",
       "      <td>24.0</td>\n",
       "      <td>White</td>\n",
       "      <td>No Side Effects</td>\n",
       "    </tr>\n",
       "  </tbody>\n",
       "</table>\n",
       "</div>"
      ],
      "text/plain": [
       "  GENDER DRUG NAME   AGE             RACE                   SIDE EFFECTS\n",
       "0      M   topamax  41.0            White              Mild Side Effects\n",
       "1      M     zocor  53.0  Hispanic, White  Extremely Severe Side Effects\n",
       "2      F   tazorac  31.0            White              Mild Side Effects\n",
       "3      F  voltaren  44.0            White            Severe Side Effects\n",
       "4      M  tramadol  24.0            White                No Side Effects"
      ]
     },
     "execution_count": 30,
     "metadata": {},
     "output_type": "execute_result"
    }
   ],
   "source": [
    "df.head()"
   ]
  },
  {
   "cell_type": "code",
   "execution_count": 31,
   "id": "3e04a726",
   "metadata": {},
   "outputs": [
    {
     "name": "stdout",
     "output_type": "stream",
     "text": [
      "[{'F': 0, 'M': 1}, {'abilify': 0, 'accolate': 1, 'accupril': 2, 'accutane': 3, 'aciphex': 4, 'actiq': 5, 'actonel': 6, 'actos': 7, 'acyclovir': 8, 'aczone': 9, 'adcirca': 10, 'adderall': 11, 'adderall-xr': 12, 'adipex-p': 13, 'advair-diskus': 14, 'advair-hfa': 15, 'albuterol': 16, 'aldactone': 17, 'aldara': 18, 'alendronate': 19, 'alesse': 20, 'allegra': 21, 'allegra-d': 22, 'aloprim': 23, 'alprazolam': 24, 'ambien': 25, 'ambien-cr': 26, 'amerge': 27, 'amitiza': 28, 'amoxil': 29, 'amphetamine': 30, 'ampicillin': 31, 'anafranil': 32, 'androgel': 33, 'angeliq': 34, 'antivert': 35, 'aralen': 36, 'arava': 37, 'aricept': 38, 'arimidex': 39, 'armour-thyroid': 40, 'aromasin': 41, 'arthrotec': 42, 'asacol': 43, 'asmanex': 44, 'atacand': 45, 'atarax': 46, 'atenolol': 47, 'ativan': 48, 'atripla': 49, 'augmentin': 50, 'avage': 51, 'avapro': 52, 'avelox': 53, 'avita': 54, 'avodart': 55, 'axert': 56, 'aygestin': 57, 'azasan': 58, 'azelex': 59, 'azopt': 60, 'azor': 61, 'baciim': 62, 'baclofen': 63, 'bactrim-ds': 64, 'bactroban': 65, 'baraclude': 66, 'benadryl': 67, 'benicar': 68, 'benicar-hct': 69, 'benzaclin': 70, 'betamethasone': 71, 'betaseron': 72, 'biaxin': 73, 'bisoprolol': 74, 'boniva': 75, 'botox': 76, 'buprenorphine': 77, 'buspar': 78, 'byetta': 79, 'bystolic': 80, 'caduet': 81, 'carac': 82, 'cardura': 83, 'cardura-xl': 84, 'cataflam': 85, 'catapres': 86, 'ceclor': 87, 'cefzil': 88, 'celebrex': 89, 'celexa': 90, 'chantix': 91, 'cialis': 92, 'cipro': 93, 'citalopram': 94, 'clarinex': 95, 'claripel-cream': 96, 'clarithromycin': 97, 'claritin': 98, 'cleocin': 99, 'climara': 100, 'climara-pro': 101, 'clindamycin': 102, 'clindamycin-topical': 103, 'clobetasol': 104, 'clobex': 105, 'clomid': 106, 'clonazepam': 107, 'compazine': 108, 'concerta': 109, 'copaxone': 110, 'coreg': 111, 'corgard': 112, 'cosopt': 113, 'coumadin': 114, 'cozaar': 115, 'crestor': 116, 'cymbalta': 117, 'cyproheptadine': 118, 'cytomel': 119, 'danazol': 120, 'dapsone': 121, 'darvocet-n': 122, 'delestrogen': 123, 'deltasone': 124, 'depakene': 125, 'depakote': 126, 'depo-provera': 127, 'desonide': 128, 'desyrel': 129, 'detrol': 130, 'detrol-la': 131, 'dexamethasone': 132, 'dexedrine': 133, 'dextroamphetamine': 134, 'dextrostat': 135, 'diazepam': 136, 'diclofenac': 137, 'dicyclomine': 138, 'differin': 139, 'diflucan': 140, 'dilantin': 141, 'dilaudid': 142, 'diltiazem': 143, 'diovan': 144, 'dispermox': 145, 'ditropan': 146, 'divigel': 147, 'doryx': 148, 'dostinex': 149, 'dovonex': 150, 'doxepin': 151, 'doxycycline': 152, 'duac': 153, 'duragesic': 154, 'dysport': 155, 'ecotrin': 156, 'effexor': 157, 'effexor-xr': 158, 'efudex': 159, 'elavil': 160, 'elidel': 161, 'elmiron': 162, 'elocon': 163, 'emsam': 164, 'enablex': 165, 'enalapril': 166, 'enbrel': 167, 'erythra-derm': 168, 'erythromycin': 169, 'estrace': 170, 'estrasorb': 171, 'estratest': 172, 'estring': 173, 'estrostep-fe': 174, 'eulexin': 175, 'evista': 176, 'evoclin': 177, 'exelon': 178, 'femara': 179, 'femhrt': 180, 'femring': 181, 'fentanyl': 182, 'fexofenadine': 183, 'finacea': 184, 'fioricet': 185, 'fiorinal': 186, 'flagyl': 187, 'flexeril': 188, 'flomax': 189, 'flonase': 190, 'flovent': 191, 'fluconazole': 192, 'fluvoxamine': 193, 'follistim': 194, 'fortaz': 195, 'fosamax': 196, 'fosamax-plus-d': 197, 'fosinopril': 198, 'frova': 199, 'galzin': 200, 'geodon': 201, 'glucophage': 202, 'glucophage-xr': 203, 'gonal-f-rff': 204, 'grifulvin-v': 205, 'halcion': 206, 'haldol': 207, 'humira': 208, 'hydrochlorothiazide': 209, 'hydrocodone-and-acetaminophen': 210, 'hydrocortisone': 211, 'hyoscyamine': 212, 'hytrin': 213, 'hyzaar': 214, 'imitrex': 215, 'imodium': 216, 'imuran': 217, 'inderal': 218, 'innofem': 219, 'inspra': 220, 'isoniazid': 221, 'keflex': 222, 'kenalog': 223, 'keppra': 224, 'ketoconazole': 225, 'ketorolac': 226, 'klaron': 227, 'klonopin': 228, 'lac-hydrin': 229, 'lamictal': 230, 'lamisil': 231, 'lamotrigine': 232, 'lantus': 233, 'lasix': 234, 'latisse': 235, 'levaquin': 236, 'levetiracetam': 237, 'levitra': 238, 'levora': 239, 'levothroid': 240, 'levoxyl': 241, 'lexapro': 242, 'lidex': 243, 'lidocaine': 244, 'lipitor': 245, 'lithium-carbonate': 246, 'lo-ovral': 247, 'locoid-lipocream': 248, 'lodine': 249, 'lopressor': 250, 'lorazepam': 251, 'lortab': 252, 'lotrel': 253, 'lotronex': 254, 'lumigan': 255, 'lunesta': 256, 'lupron': 257, 'lybrel': 258, 'lyrica': 259, 'macrobid': 260, 'malarone': 261, 'maxalt': 262, 'medroxyprogesterone': 263, 'meperidine': 264, 'mercaptopurine': 265, 'meridia': 266, 'metformin': 267, 'metformin-extended-release': 268, 'methadone': 269, 'methimazole': 270, 'methotrexate': 271, 'metoclopramide': 272, 'metoprolol': 273, 'metrogel': 274, 'metrolotion': 275, 'metronidazole': 276, 'mevacor': 277, 'micardis': 278, 'minocin': 279, 'minocycline': 280, 'minoxidil': 281, 'miralax': 282, 'mirapex': 283, 'mirena': 284, 'mirtazapine': 285, 'mobic': 286, 'morphine': 287, 'motrin': 288, 'naltrexone': 289, 'naprosyn': 290, 'naproxen': 291, 'nardil': 292, 'nasacort': 293, 'nasacort-aq': 294, 'nasarel': 295, 'nasonex': 296, 'neoprofen': 297, 'neurontin': 298, 'nexium': 299, 'niacor': 300, 'niaspan': 301, 'nitrofurantoin': 302, 'nizoral': 303, 'nizoral-shampoo': 304, 'nolvadex': 305, 'noroxin': 306, 'norpramin': 307, 'nortriptyline': 308, 'norvasc': 309, 'nuvaring': 310, 'nuvigil': 311, 'nystatin': 312, 'omacor': 313, 'omnicef': 314, 'omnitrope': 315, 'oracea': 316, 'ortho-evra': 317, 'ortho-novum': 318, 'ortho-tri-cyclen': 319, 'ortho-tri-cyclen-lo': 320, 'oxazepam': 321, 'oxybutynin': 322, 'oxycodone': 323, 'oxycodone-and-acetaminophen': 324, 'oxycontin': 325, 'pamelor': 326, 'panixine-disperdose': 327, 'parlodel': 328, 'paxil': 329, 'paxil-cr': 330, 'penicillin-v': 331, 'penlac': 332, 'pentasa': 333, 'pepcid': 334, 'percocet': 335, 'periogard': 336, 'periostat': 337, 'permapen': 338, 'phendimetrazine': 339, 'phenergan': 340, 'pilocarpine': 341, 'plavix': 342, 'plendil': 343, 'polymyxin-b': 344, 'ponstel': 345, 'pravachol': 346, 'prednisolone': 347, 'prednisone': 348, 'premarin': 349, 'premarin-vaginal': 350, 'prempro': 351, 'prevacid': 352, 'prilosec': 353, 'prinivil': 354, 'pristiq': 355, 'proair-hfa': 356, 'prochlorperazine': 357, 'progesterone': 358, 'prograf': 359, 'proloprim': 360, 'prometrium': 361, 'propecia': 362, 'propranolol': 363, 'proquin-xr': 364, 'proscar': 365, 'protonix': 366, 'protopic': 367, 'provera': 368, 'provigil': 369, 'prozac': 370, 'quibron-t': 371, 'qvar': 372, 'ranitidine': 373, 'rebif': 374, 'reglan': 375, 'relafen': 376, 'relpax': 377, 'remeron': 378, 'remicade': 379, 'renova': 380, 'requip': 381, 'restasis': 382, 'restoril': 383, 'retin-a': 384, 'retin-a-micro': 385, 'rhinocort': 386, 'ribavirin': 387, 'rifadin': 388, 'risperdal': 389, 'risperdal-consta': 390, 'ritalin': 391, 'ritalin-la': 392, 'saizen': 393, 'sanctura-xr': 394, 'sarafem': 395, 'seasonale': 396, 'seasonique': 397, 'selegiline': 398, 'septra': 399, 'seroquel': 400, 'seroquel-xr': 401, 'serzone': 402, 'singulair': 403, 'skelaxin': 404, 'solodyn': 405, 'soltamox': 406, 'soma': 407, 'sonata': 408, 'sotret': 409, 'spiriva': 410, 'spironolactone': 411, 'strattera': 412, 'suboxone': 413, 'sular': 414, 'sulfasalazine': 415, 'sulindac': 416, 'sumatriptan': 417, 'symbicort': 418, 'symbyax': 419, 'synthroid': 420, 'tambocor': 421, 'tamiflu': 422, 'tapazole': 423, 'tarka': 424, 'tazorac': 425, 'tegretol': 426, 'tekturna': 427, 'temovate': 428, 'tenormin': 429, 'tequin': 430, 'tetracycline': 431, 'tirosint': 432, 'tobramycin': 433, 'tofranil-pm': 434, 'topamax': 435, 'topicort': 436, 'toprol-xl': 437, 'toradol': 438, 'tramadol': 439, 'trazodone': 440, 'trental': 441, 'tri-luma': 442, 'triamcinolone': 443, 'triaz': 444, 'trileptal': 445, 'trilipix': 446, 'trimethobenzamide': 447, 'trimethoprim': 448, 'triphasil': 449, 'tussionex': 450, 'tylenol': 451, 'ultracet': 452, 'ultram': 453, 'ultram-er': 454, 'vagifem': 455, 'valium': 456, 'valtrex': 457, 'vaniqa': 458, 'vasotec': 459, 'ventolin-hfa': 460, 'vesicare': 461, 'viagra': 462, 'vicodin': 463, 'vicoprofen': 464, 'vigamox': 465, 'vioxx': 466, 'vistaril': 467, 'vivelle': 468, 'vivelle-dot': 469, 'voltaren': 470, 'vytorin': 471, 'vyvanse': 472, 'warfarin': 473, 'wellbutrin': 474, 'wellbutrin-sr': 475, 'wellbutrin-xl': 476, 'xalatan': 477, 'xanax': 478, 'xanax-xr': 479, 'xenical': 480, 'xyrem': 481, 'xyzal': 482, 'yasmin': 483, 'zantac': 484, 'zegerid': 485, 'zestoretic': 486, 'ziac': 487, 'ziana': 488, 'zithromax': 489, 'zmax': 490, 'zocor': 491, 'zofran': 492, 'zoloft': 493, 'zomig': 494, 'zovirax': 495, 'zovirax-topical': 496, 'zyban': 497, 'zyprexa': 498, 'zyrtec': 499, 'zyrtec-d': 500, 'zyvox': 501}, {'Asian Indian': 0, 'Asian, Other': 1, 'Black': 2, 'Chinese': 3, 'Hispanic, Black': 4, 'Hispanic, White': 5, 'Other': 6, 'Unknown': 7, 'White': 8}, {'Extremely Severe Side Effects': 0, 'Mild Side Effects': 1, 'Moderate Side Effects': 2, 'No Side Effects': 3, 'Severe Side Effects': 4}]\n"
     ]
    }
   ],
   "source": [
    "attr = []\n",
    "for i in df.columns:\n",
    "    if df[i].dtype == 'object':\n",
    "        attr.append(i)\n",
    "labelencoder = LabelEncoder()\n",
    "mapping =[]\n",
    "for i in attr:\n",
    "    df[i] = labelencoder.fit_transform(df[i])\n",
    "    lemap = dict(zip(labelencoder.classes_,labelencoder.transform(labelencoder.classes_)))\n",
    "    mapping.append(lemap)\n",
    "print(f\"{mapping}\")"
   ]
  },
  {
   "cell_type": "code",
   "execution_count": 32,
   "id": "eeaf121a",
   "metadata": {},
   "outputs": [
    {
     "data": {
      "text/plain": [
       "<AxesSubplot:>"
      ]
     },
     "execution_count": 32,
     "metadata": {},
     "output_type": "execute_result"
    },
    {
     "data": {
      "image/png": "[encoded data removed]",
      "text/plain": [
       "<Figure size 1008x576 with 2 Axes>"
      ]
     },
     "metadata": {
      "needs_background": "light"
     },
     "output_type": "display_data"
    }
   ],
   "source": [
    "## Plotting a correlation heatmap \n",
    "corrmatrix = df.corr()\n",
    "plt.subplots(figsize=(14,8))\n",
    "sns.heatmap(corrmatrix,vmin=-0.4 , vmax=0.9, annot=True, cmap='YlGnBu' , linewidth=0.2)"
   ]
  },
  {
   "cell_type": "code",
   "execution_count": 33,
   "id": "9a4f18fb",
   "metadata": {},
   "outputs": [
    {
     "data": {
      "text/html": [
       "<div>\n",
       "<style scoped>\n",
       "    .dataframe tbody tr th:only-of-type {\n",
       "        vertical-align: middle;\n",
       "    }\n",
       "\n",
       "    .dataframe tbody tr th {\n",
       "        vertical-align: top;\n",
       "    }\n",
       "\n",
       "    .dataframe thead th {\n",
       "        text-align: right;\n",
       "    }\n",
       "</style>\n",
       "<table border=\"1\" class=\"dataframe\">\n",
       "  <thead>\n",
       "    <tr style=\"text-align: right;\">\n",
       "      <th></th>\n",
       "      <th>GENDER</th>\n",
       "      <th>DRUG NAME</th>\n",
       "      <th>AGE</th>\n",
       "      <th>SIDE EFFECTS</th>\n",
       "    </tr>\n",
       "  </thead>\n",
       "  <tbody>\n",
       "    <tr>\n",
       "      <th>0</th>\n",
       "      <td>1</td>\n",
       "      <td>435</td>\n",
       "      <td>41.0</td>\n",
       "      <td>1</td>\n",
       "    </tr>\n",
       "    <tr>\n",
       "      <th>1</th>\n",
       "      <td>1</td>\n",
       "      <td>491</td>\n",
       "      <td>53.0</td>\n",
       "      <td>0</td>\n",
       "    </tr>\n",
       "    <tr>\n",
       "      <th>2</th>\n",
       "      <td>0</td>\n",
       "      <td>425</td>\n",
       "      <td>31.0</td>\n",
       "      <td>1</td>\n",
       "    </tr>\n",
       "  </tbody>\n",
       "</table>\n",
       "</div>"
      ],
      "text/plain": [
       "   GENDER  DRUG NAME   AGE  SIDE EFFECTS\n",
       "0       1        435  41.0             1\n",
       "1       1        491  53.0             0\n",
       "2       0        425  31.0             1"
      ]
     },
     "execution_count": 33,
     "metadata": {},
     "output_type": "execute_result"
    }
   ],
   "source": [
    "## Dropping the attribute 'RACE' due to its high negative correlation\n",
    "df.drop(['RACE'], axis=1, inplace=True)\n",
    "df.head(3)"
   ]
  },
  {
   "cell_type": "code",
   "execution_count": 34,
   "id": "4fc64db0",
   "metadata": {},
   "outputs": [
    {
     "data": {
      "text/plain": [
       "<AxesSubplot:>"
      ]
     },
     "execution_count": 34,
     "metadata": {},
     "output_type": "execute_result"
    },
    {
     "data": {
      "image/png": "[encoded data removed]",
      "text/plain": [
       "<Figure size 1008x576 with 2 Axes>"
      ]
     },
     "metadata": {
      "needs_background": "light"
     },
     "output_type": "display_data"
    }
   ],
   "source": [
    "corrmatrix = df.corr()\n",
    "plt.subplots(figsize=(14,8))\n",
    "sns.heatmap(corrmatrix,vmin=-0.4 , vmax=0.9, annot=True, cmap='YlGnBu' , linewidth=0.2)"
   ]
  },
  {
   "cell_type": "markdown",
   "id": "16a589c8",
   "metadata": {},
   "source": [
    "### Importing Important Libraries of Model Building"
   ]
  },
  {
   "cell_type": "code",
   "execution_count": 35,
   "id": "bfbd7057",
   "metadata": {},
   "outputs": [],
   "source": [
    "## Importing the necessary Libraries for model building\n",
    "import warnings\n",
    "warnings.filterwarnings('ignore')\n",
    "from sklearn.model_selection import train_test_split\n",
    "from sklearn.metrics import accuracy_score, precision_score, recall_score, f1_score\n",
    "from sklearn.metrics import confusion_matrix"
   ]
  },
  {
   "cell_type": "markdown",
   "id": "3dd59fe1",
   "metadata": {},
   "source": [
    "### Splitting the Data inti X & Y"
   ]
  },
  {
   "cell_type": "code",
   "execution_count": 36,
   "id": "371c7016",
   "metadata": {},
   "outputs": [],
   "source": [
    "X = df.drop(['SIDE EFFECTS'], axis=1)\n",
    "y = df['SIDE EFFECTS']\n",
    "X_train, X_test, y_train, y_test = train_test_split(X, y, test_size = 0.35, random_state=42)"
   ]
  },
  {
   "cell_type": "markdown",
   "id": "1afe3a77",
   "metadata": {},
   "source": [
    "## Model Building"
   ]
  },
  {
   "cell_type": "markdown",
   "id": "1e305fe6",
   "metadata": {},
   "source": [
    "### Logistic Regression Classifier"
   ]
  },
  {
   "cell_type": "code",
   "execution_count": 37,
   "id": "0a48d4d4",
   "metadata": {},
   "outputs": [
    {
     "name": "stdout",
     "output_type": "stream",
     "text": [
      "accuracy is: 0.3285519369655754\n",
      "precision score: 0.12203315548173203\n",
      "recall_score: 0.1994733794894431\n",
      "f1 score: 0.1192087316665766\n"
     ]
    }
   ],
   "source": [
    "## Logistic Regression Classifier\n",
    "from sklearn.linear_model import LogisticRegression\n",
    "lr = LogisticRegression()\n",
    "lr.fit(X_train, y_train)\n",
    "y_pred = lr.predict(X_test)\n",
    "print(\"accuracy is:\",accuracy_score(y_test,y_pred))\n",
    "print(\"precision score:\",precision_score(y_test,y_pred,average='macro'))\n",
    "print(\"recall_score:\",recall_score(y_test,y_pred,average='macro'))\n",
    "print('f1 score:',f1_score(y_test,y_pred,average='macro'))"
   ]
  },
  {
   "cell_type": "markdown",
   "id": "292c4d3a",
   "metadata": {},
   "source": [
    "### K-Nearest Neighbour Classifier"
   ]
  },
  {
   "cell_type": "code",
   "execution_count": 38,
   "id": "157a0ab7",
   "metadata": {},
   "outputs": [
    {
     "name": "stdout",
     "output_type": "stream",
     "text": [
      "accuracy is: 0.9712401865887547\n",
      "precision score: 0.9660990244404412\n",
      "recall_score: 0.9717278141003461\n",
      "f1 score: 0.9687912551701947\n"
     ]
    }
   ],
   "source": [
    "## K-Nearest Neighbours Classifier\n",
    "from sklearn.neighbors import KNeighborsClassifier\n",
    "knn = KNeighborsClassifier(n_neighbors=8)\n",
    "knn.fit(X_train, y_train)\n",
    "y_pred = knn.predict(X_test)\n",
    "print(\"accuracy is:\",accuracy_score(y_test,y_pred))\n",
    "print(\"precision score:\",precision_score(y_test,y_pred,average='macro'))\n",
    "print(\"recall_score:\",recall_score(y_test,y_pred,average='macro'))\n",
    "print('f1 score:',f1_score(y_test,y_pred,average='macro'))"
   ]
  },
  {
   "cell_type": "markdown",
   "id": "10562bb6",
   "metadata": {},
   "source": [
    "### Random Forest Classifier"
   ]
  },
  {
   "cell_type": "code",
   "execution_count": 39,
   "id": "42ad6f25",
   "metadata": {},
   "outputs": [
    {
     "name": "stdout",
     "output_type": "stream",
     "text": [
      "accuracy is: 0.9712401865887547\n",
      "precision score: 0.9660990244404412\n",
      "recall_score: 0.9717278141003461\n",
      "f1 score: 0.9687912551701947\n"
     ]
    }
   ],
   "source": [
    "## Random Forest Classifier\n",
    "from sklearn.ensemble import RandomForestClassifier as RFC\n",
    "rft=RFC(n_estimators=100, random_state=42)\n",
    "rft.fit(X_train,y_train)\n",
    "y_Pred=rft.predict(X_test)\n",
    "print(\"accuracy is:\",accuracy_score(y_test,y_pred))\n",
    "print(\"precision score:\",precision_score(y_test,y_pred,average='macro'))\n",
    "print(\"recall_score:\",recall_score(y_test,y_pred,average='macro'))\n",
    "print('f1 score:',f1_score(y_test,y_pred,average='macro'))"
   ]
  },
  {
   "cell_type": "markdown",
   "id": "d39ea340",
   "metadata": {},
   "source": [
    "### Dicission Tree Classifier"
   ]
  },
  {
   "cell_type": "code",
   "execution_count": 40,
   "id": "938b6c38",
   "metadata": {},
   "outputs": [
    {
     "name": "stdout",
     "output_type": "stream",
     "text": [
      "accuracy is: 0.9771693085786537\n",
      "precision score: 0.9801719117386677\n",
      "recall_score: 0.9697295226345648\n",
      "f1 score: 0.9747986313973962\n"
     ]
    }
   ],
   "source": [
    "## Decision Tree Classifier\n",
    "from sklearn.tree import DecisionTreeClassifier\n",
    "dt = DecisionTreeClassifier()\n",
    "dt.fit(X_train, y_train)\n",
    "y_pred = dt.predict(X_test)\n",
    "print(\"accuracy is:\",accuracy_score(y_test,y_pred))\n",
    "print(\"precision score:\",precision_score(y_test,y_pred,average='macro'))\n",
    "print(\"recall_score:\",recall_score(y_test,y_pred,average='macro'))\n",
    "print('f1 score:',f1_score(y_test,y_pred,average='macro'))"
   ]
  },
  {
   "cell_type": "markdown",
   "id": "a8a97e92",
   "metadata": {},
   "source": [
    "### Naive Bayes Classifier"
   ]
  },
  {
   "cell_type": "code",
   "execution_count": 41,
   "id": "504d4c68",
   "metadata": {},
   "outputs": [
    {
     "name": "stdout",
     "output_type": "stream",
     "text": [
      "accuracy is: 0.332280854650789\n",
      "precision score: 0.06645617093015779\n",
      "recall_score: 0.2\n",
      "f1 score: 0.0997630052224641\n"
     ]
    }
   ],
   "source": [
    "## Naive Bayes Classifier\n",
    "from sklearn.naive_bayes import GaussianNB\n",
    "gnb = GaussianNB()\n",
    "gnb.fit(X_train, y_train)\n",
    "y_pred = gnb.predict(X_test)\n",
    "print(\"accuracy is:\",accuracy_score(y_test,y_pred))\n",
    "print(\"precision score:\",precision_score(y_test,y_pred,average='macro'))\n",
    "print(\"recall_score:\",recall_score(y_test,y_pred,average='macro'))\n",
    "print('f1 score:',f1_score(y_test,y_pred,average='macro'))"
   ]
  },
  {
   "cell_type": "markdown",
   "id": "e37d27a3",
   "metadata": {},
   "source": [
    "#### The main objective of the project is to build a classification model that classifies the side effects of a particular drug.\n",
    "\n",
    "- After the implementation of the Logistic Regression, K-Nearest Neighbour (KNN), Random Forest, Decision Tree, and  Gaussian Naive Bayes algorithms, the Decision Tree classifier came out with the best accuracy of prediction ( Accuracy is 0.97716).\n",
    "\n",
    "### Thanking You\n",
    "\n",
    "#### Shreyash Sable"
   ]
  },
  {
   "cell_type": "markdown",
   "id": "90e47d31",
   "metadata": {},
   "source": [
    "                                 - - - - - - - - X X X X X X X X - - - - - - - - "
   ]
  }
 ],
 "metadata": {
  "kernelspec": {
   "display_name": "Python 3 (ipykernel)",
   "language": "python",
   "name": "python3"
  },
  "language_info": {
   "codemirror_mode": {
    "name": "ipython",
    "version": 3
   },
   "file_extension": ".py",
   "mimetype": "text/x-python",
   "name": "python",
   "nbconvert_exporter": "python",
   "pygments_lexer": "ipython3",
   "version": "3.9.13"
  }
 },
 "nbformat": 4,
 "nbformat_minor": 5
}
